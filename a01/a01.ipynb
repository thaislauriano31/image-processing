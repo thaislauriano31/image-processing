{
 "cells": [
  {
   "attachments": {},
   "cell_type": "markdown",
   "metadata": {},
   "source": [
    "# Image Processing and Analysis - Assignment 01\n",
    "## SCC0251 - 2023.1\n",
    "### Thaís Ribeiro Lauriano - 12542518"
   ]
  },
  {
   "cell_type": "code",
   "execution_count": 39,
   "metadata": {},
   "outputs": [],
   "source": [
    "import imageio.v2 as imageio\n",
    "import numpy as np"
   ]
  },
  {
   "cell_type": "code",
   "execution_count": 50,
   "metadata": {},
   "outputs": [],
   "source": [
    "#Reading image names and loading image files\n",
    "\n",
    "imglow_bn = input()\n",
    "\n",
    "img_low = []\n",
    "for i in range(4):\n",
    "    img_low.append(imageio.imread(imglow_bn+str(i)+'.png'))\n",
    "\n",
    "imghigh_name = input()\n",
    "img_high = imageio.imread(imghigh_name)"
   ]
  },
  {
   "cell_type": "code",
   "execution_count": 51,
   "metadata": {},
   "outputs": [],
   "source": [
    "def same_shape(img1, img2):\n",
    "    if img1.shape != img2.shape:\n",
    "        print(\"Images aren't the same resolution\")\n",
    "        return False\n",
    "    return True"
   ]
  },
  {
   "cell_type": "code",
   "execution_count": 52,
   "metadata": {},
   "outputs": [],
   "source": [
    "def superresolution(imgs):\n",
    "    n = imgs[0].shape\n",
    "    if not same_shape(imgs[0], imgs[1]) or not same_shape(imgs[0], imgs[2]) or not same_shape(imgs[0], imgs[3]):\n",
    "        return\n",
    "\n",
    "    gen_img = np.zeros((2*n[0], 2*n[1]))\n",
    "\n",
    "    for i in range(n[0]):\n",
    "        for j in range(n[1]):\n",
    "            gen_img[i*2][j*2] = imgs[0][i][j]\n",
    "            gen_img[i*2+1][j*2] = imgs[1][i][j]\n",
    "            gen_img[i*2][j*2+1] = imgs[2][i][j]\n",
    "            gen_img[i*2+1][j*2+1] = imgs[3][i][j]\n",
    "    \n",
    "    return gen_img"
   ]
  },
  {
   "cell_type": "code",
   "execution_count": 53,
   "metadata": {},
   "outputs": [],
   "source": [
    "def histogram(img, n_levels):\n",
    "    hist = np.zeros(n_levels).astype(int)\n",
    "\n",
    "    for i in range(n_levels):\n",
    "        pixels_value_i = np.sum(img == i)\n",
    "        hist[i] = pixels_value_i\n",
    "            \n",
    "    return(hist)"
   ]
  },
  {
   "cell_type": "code",
   "execution_count": null,
   "metadata": {},
   "outputs": [],
   "source": [
    "def cumulative_histogram(img, n_levels):\n",
    "    hist = histogram(img,  n_levels)\n",
    "    \n",
    "    histC = np.zeros(n_levels).astype(int)\n",
    "\n",
    "    histC[0] = hist[0] \n",
    "    for i in range(1,  n_levels):\n",
    "        histC[i] = hist[i] + histC[i-1]\n",
    "\n",
    "    return histC"
   ]
  },
  {
   "cell_type": "code",
   "execution_count": 54,
   "metadata": {},
   "outputs": [],
   "source": [
    "def histogram_equalization(img, n_levels, histC):\n",
    "\n",
    "    n = img.shape\n",
    "    \n",
    "    img_eq = np.zeros([n[0],n[1]]).astype(np.uint8)\n",
    "     \n",
    "    for input in range(n_levels):\n",
    "        output = ((n_levels-1)/float(n[0]*n[1]))*histC[input]\n",
    "        \n",
    "        img_eq[ np.where(img == input) ] = output\n",
    "    \n",
    "    return img_eq"
   ]
  },
  {
   "cell_type": "code",
   "execution_count": 55,
   "metadata": {},
   "outputs": [],
   "source": [
    "def single_img_cumul_hist(imgs):\n",
    "    eq_imgs = []\n",
    "    for i in range(4):\n",
    "        eq_imgs.append(histogram_equalization(imgs[i], 256, cumulative_histogram(imgs[i], 256)))\n",
    "\n",
    "    return eq_imgs"
   ]
  },
  {
   "cell_type": "code",
   "execution_count": null,
   "metadata": {},
   "outputs": [],
   "source": [
    "def joint_cumulative_hist(imgs):\n",
    "    joint_imgs = np.concatenate(imgs[0], imgs[1], imgs[3], imgs[4])\n",
    "    histC = cumulative_histogram(joint_imgs, 256)\n",
    "\n",
    "    eq_imgs = []\n",
    "    for i in range(4):\n",
    "        eq_imgs.append(histogram_equalization(imgs[i], 256, histC))\n",
    "\n",
    "\n",
    "    return eq_imgs"
   ]
  },
  {
   "cell_type": "code",
   "execution_count": 56,
   "metadata": {},
   "outputs": [],
   "source": [
    "def gamma_correction(imgs, gamma):\n",
    "    n = imgs[0].shape\n",
    "    if not same_shape(imgs[0], imgs[1]) or not same_shape(imgs[0], imgs[2]) or not same_shape(imgs[0], imgs[3]):\n",
    "        return\n",
    "\n",
    "    for k in range(4):\n",
    "        for i in range(n[0]):\n",
    "            for j in range(n[1]):\n",
    "                imgs[k][i][j] = 255 * (imgs[k][i][j]/255.0)**(1/gamma)"
   ]
  },
  {
   "cell_type": "code",
   "execution_count": 57,
   "metadata": {},
   "outputs": [],
   "source": [
    "# RMSE\n",
    "def comparison(gen_img, ref_img):\n",
    "    n = gen_img.shape\n",
    "    if not same_shape(gen_img, ref_img):\n",
    "        return\n",
    "    sum = 0\n",
    "    for i in range(n[0]):\n",
    "        for j in range(n[1]):\n",
    "            sum += (ref_img[i][j] - gen_img[i][j])**2\n",
    "            \n",
    "    error = np.sqrt(sum/(n[0]*n[1]))\n",
    "    print(\"{:.4f}\".format(error))\n",
    "    return"
   ]
  },
  {
   "cell_type": "code",
   "execution_count": 59,
   "metadata": {},
   "outputs": [
    {
     "name": "stdout",
     "output_type": "stream",
     "text": [
      "17.9062\n"
     ]
    }
   ],
   "source": [
    "F = int(input())\n",
    "gamma = float(input())\n",
    "\n",
    "if F > 3 or F < 0:\n",
    "    print(\"Invalid value of F\")\n",
    "elif F == 0:\n",
    "    pass\n",
    "elif F == 1:\n",
    "    single_img_cumul_hist(img_low)\n",
    "elif F == 2:\n",
    "    joint_cumulative_hist(img_low)\n",
    "elif F == 3:\n",
    "    gamma_correction(img_low, gamma)\n",
    "comparison(superresolution(img_low), img_high)"
   ]
  }
 ],
 "metadata": {
  "kernelspec": {
   "display_name": "Python 3",
   "language": "python",
   "name": "python3"
  },
  "language_info": {
   "codemirror_mode": {
    "name": "ipython",
    "version": 3
   },
   "file_extension": ".py",
   "mimetype": "text/x-python",
   "name": "python",
   "nbconvert_exporter": "python",
   "pygments_lexer": "ipython3",
   "version": "3.9.6"
  },
  "orig_nbformat": 4
 },
 "nbformat": 4,
 "nbformat_minor": 2
}
